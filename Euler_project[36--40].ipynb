{
 "cells": [
  {
   "attachments": {},
   "cell_type": "markdown",
   "metadata": {},
   "source": [
    "# Problem 36 \n",
    "## Double base-palindrome"
   ]
  },
  {
   "cell_type": "code",
   "execution_count": null,
   "metadata": {},
   "outputs": [],
   "source": [
    "def check_number_palindrome(number):\n",
    "    if str(number) == str(number)[::-1]:\n",
    "        return True\n",
    "    else:\n",
    "        return False\n",
    "\n",
    "def base10_to_base2(number):\n",
    "    return bin(number)[2:]\n",
    "\n",
    "\n",
    "Total = 0\n",
    "for i in range(10**6):\n",
    "    if check_number_palindrome(i) and check_number_palindrome(base10_to_base2(i)):\n",
    "        Total += i\n",
    "\n",
    "print(Total)\n",
    "        "
   ]
  },
  {
   "attachments": {},
   "cell_type": "markdown",
   "metadata": {},
   "source": [
    "# Problem 37\n",
    "## Trunctable Prime"
   ]
  },
  {
   "cell_type": "code",
   "execution_count": 3,
   "metadata": {},
   "outputs": [
    {
     "name": "stdout",
     "output_type": "stream",
     "text": [
      "748317 11\n"
     ]
    }
   ],
   "source": [
    "def is_prime(number):\n",
    "    if number < 2:\n",
    "        return False\n",
    "    for i in range(2, int(number**0.5)+1):\n",
    "        if number % i == 0:\n",
    "            return False\n",
    "    return True\n",
    "\n",
    "def is_truncatable_prime(number):\n",
    "    if not is_prime(number):\n",
    "        return False\n",
    "    else:\n",
    "        for i in range(1, len(str(number))):\n",
    "            if not is_prime(int(str(number)[i:])) or not is_prime(int(str(number)[:i])):\n",
    "                return False\n",
    "    return True\n",
    "\n",
    "count_of_truncatable_primes = 0\n",
    "the_sum_of_truncatable_primes = 0\n",
    "i = 10\n",
    "\n",
    "while count_of_truncatable_primes < 11:\n",
    "    if is_truncatable_prime(i):\n",
    "        the_sum_of_truncatable_primes += i\n",
    "        count_of_truncatable_primes += 1\n",
    "    i += 1\n",
    "    if i > 1000000:\n",
    "        break\n",
    "\n",
    "print(the_sum_of_truncatable_primes, count_of_truncatable_primes)\n"
   ]
  },
  {
   "attachments": {},
   "cell_type": "markdown",
   "metadata": {},
   "source": [
    "# Problem 38\n",
    "## Pandigital number"
   ]
  },
  {
   "cell_type": "code",
   "execution_count": 2,
   "metadata": {},
   "outputs": [
    {
     "name": "stdout",
     "output_type": "stream",
     "text": [
      "932718654\n"
     ]
    }
   ],
   "source": [
    "digits = set(\"123456789\")\n",
    "\n",
    "maxscrunch = 0\n",
    "\n",
    "for num in range(10000):\n",
    "\tscrunch = str(num)\n",
    "\ttimes = 1\n",
    "\twhile len(scrunch) < 9:\n",
    "\t\ttimes += 1\n",
    "\t\tscrunch = \"\".join((scrunch, str(num * times)))\n",
    "\tif len(scrunch) == 9 and set(scrunch) == digits:\n",
    "\t\t# print num, scrunch\n",
    "\t\tif maxscrunch < int(scrunch):\n",
    "\t\t\tmaxscrunch = int(scrunch)\n",
    "\n",
    "print(maxscrunch)"
   ]
  },
  {
   "attachments": {},
   "cell_type": "markdown",
   "metadata": {},
   "source": [
    "# Problem 39\n",
    "## Integer right triangles"
   ]
  },
  {
   "cell_type": "code",
   "execution_count": 13,
   "metadata": {},
   "outputs": [],
   "source": [
    "def number_of_right_triangle_solutions(p):\n",
    "    solutions = 0\n",
    "    for a in range(1, p):\n",
    "        for b in range(a, p-a):\n",
    "            c = p - a - b\n",
    "            if a**2 + b**2 == c**2 and c > 0:\n",
    "                solutions += 1\n",
    "    return solutions, p\n",
    "\n",
    "\n",
    "max_count = 0 , 0\n",
    "for i in range(1, 1000):\n",
    "    if number_of_right_triangle_solutions(i) > max_count:\n",
    "        max_count = number_of_right_triangle_solutions(i)\n",
    "\n",
    "\n"
   ]
  },
  {
   "cell_type": "code",
   "execution_count": 14,
   "metadata": {},
   "outputs": [
    {
     "data": {
      "text/plain": [
       "(8, 840)"
      ]
     },
     "execution_count": 14,
     "metadata": {},
     "output_type": "execute_result"
    }
   ],
   "source": [
    "max_count"
   ]
  },
  {
   "attachments": {},
   "cell_type": "markdown",
   "metadata": {},
   "source": [
    "# Problem 40\n",
    "## Champernowne's constant"
   ]
  },
  {
   "cell_type": "code",
   "execution_count": 31,
   "metadata": {},
   "outputs": [
    {
     "data": {
      "text/plain": [
       "210"
      ]
     },
     "execution_count": 31,
     "metadata": {},
     "output_type": "execute_result"
    }
   ],
   "source": [
    "from functools import reduce\n",
    "from operator import mul\n",
    "def PE40():\n",
    "    d = ''.join(map(str,range(1000000)))\n",
    "    return reduce(mul, [int(d[10**i]) for i in range(7)])\n",
    "PE40()"
   ]
  }
 ],
 "metadata": {
  "kernelspec": {
   "display_name": "Python 3",
   "language": "python",
   "name": "python3"
  },
  "language_info": {
   "codemirror_mode": {
    "name": "ipython",
    "version": 3
   },
   "file_extension": ".py",
   "mimetype": "text/x-python",
   "name": "python",
   "nbconvert_exporter": "python",
   "pygments_lexer": "ipython3",
   "version": "3.10.8"
  },
  "orig_nbformat": 4,
  "vscode": {
   "interpreter": {
    "hash": "dce45c8ab860214ad94208527de0d0a04a0b59990b6901f4a547224ce5a72c36"
   }
  }
 },
 "nbformat": 4,
 "nbformat_minor": 2
}
