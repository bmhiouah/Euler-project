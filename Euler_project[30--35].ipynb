{
 "cells": [
  {
   "cell_type": "code",
   "execution_count": 38,
   "metadata": {},
   "outputs": [],
   "source": [
    "from math import sqrt"
   ]
  },
  {
   "attachments": {},
   "cell_type": "markdown",
   "metadata": {},
   "source": [
    "# Probleme 30"
   ]
  },
  {
   "cell_type": "code",
   "execution_count": 2,
   "metadata": {},
   "outputs": [],
   "source": [
    "def is_sum_of_digits(n):\n",
    "    the_sum = 0\n",
    "    for i in str(n):\n",
    "        the_sum += int(i)**5\n",
    "    if the_sum == n:\n",
    "        return True\n",
    "    else:\n",
    "        return False\n"
   ]
  },
  {
   "cell_type": "code",
   "execution_count": 3,
   "metadata": {},
   "outputs": [
    {
     "name": "stdout",
     "output_type": "stream",
     "text": [
      "443839\n"
     ]
    }
   ],
   "source": [
    "the_sum = 0\n",
    "for i in range(2, 10**6):\n",
    "    if is_sum_of_digits(i):\n",
    "        the_sum += i\n",
    "print(the_sum)"
   ]
  },
  {
   "attachments": {},
   "cell_type": "markdown",
   "metadata": {},
   "source": [
    "# Probleme 31"
   ]
  },
  {
   "cell_type": "code",
   "execution_count": 3,
   "metadata": {},
   "outputs": [
    {
     "name": "stdout",
     "output_type": "stream",
     "text": [
      "73682\n"
     ]
    }
   ],
   "source": [
    "def nway( total, coins):\n",
    "    if not coins: return 0\n",
    "    c, coins = coins[0], coins[1:]\n",
    "    count = 0 \n",
    "    if total % c == 0: count += 1    \n",
    "    for amount in range( 0, total, c):\n",
    "        count += nway(total - amount, coins)    \n",
    "    return count\n",
    "# main\n",
    "print(nway( 200, (1,2,5,10,20,50,100,200)))"
   ]
  },
  {
   "attachments": {},
   "cell_type": "markdown",
   "metadata": {},
   "source": [
    "# Problem 32"
   ]
  },
  {
   "cell_type": "code",
   "execution_count": 1,
   "metadata": {},
   "outputs": [
    {
     "name": "stdout",
     "output_type": "stream",
     "text": [
      "45228\n"
     ]
    }
   ],
   "source": [
    "def pandigital(a,b):\n",
    "    s = str(a)+str(b)+str(a*b)\n",
    "    if len(s) != 9: return False\n",
    "    for i in range(1,10):\n",
    "        if str(i) not in s: return False\n",
    "    return True\n",
    "\n",
    "\n",
    "pandigital_products = set()\n",
    "for i in range(1,10000):\n",
    "    for j in range(1,10000):\n",
    "        if pandigital(i,j):\n",
    "            pandigital_products.add(i*j)\n",
    "print(sum(pandigital_products))"
   ]
  },
  {
   "cell_type": "markdown",
   "metadata": {},
   "source": [
    "# Problem 33"
   ]
  },
  {
   "attachments": {},
   "cell_type": "markdown",
   "metadata": {},
   "source": [
    "# Problem 34\n"
   ]
  },
  {
   "cell_type": "code",
   "execution_count": 5,
   "metadata": {},
   "outputs": [
    {
     "data": {
      "text/plain": [
       "40733"
      ]
     },
     "execution_count": 5,
     "metadata": {},
     "output_type": "execute_result"
    }
   ],
   "source": [
    "from math import factorial\n",
    "j=0\n",
    "for i in range(1, 10**6):\n",
    "    if i == sum([factorial(int(j)) for j in str(i)]):\n",
    "        j += i\n",
    "j"
   ]
  },
  {
   "attachments": {},
   "cell_type": "markdown",
   "metadata": {},
   "source": [
    "# Probelem 35"
   ]
  },
  {
   "cell_type": "code",
   "execution_count": 39,
   "metadata": {},
   "outputs": [],
   "source": [
    "def V1is_prime(n):\n",
    "    if n == 1:\n",
    "        return False\n",
    "    elif n == 2:\n",
    "        return True\n",
    "    else:\n",
    "        for i in range(2,int(sqrt(n))+1):\n",
    "            if n%i == 0:\n",
    "                return False\n",
    "        return True"
   ]
  },
  {
   "cell_type": "code",
   "execution_count": 40,
   "metadata": {},
   "outputs": [],
   "source": [
    "def is_circular_prime(n):\n",
    "    for i in range(len(str(n))):\n",
    "        if not V1is_prime(int(str(n)[i:] + str(n)[:i])):\n",
    "            return False\n",
    "    return True\n"
   ]
  },
  {
   "cell_type": "code",
   "execution_count": 48,
   "metadata": {},
   "outputs": [
    {
     "name": "stdout",
     "output_type": "stream",
     "text": [
      "55\n"
     ]
    }
   ],
   "source": [
    "circular_prime = set()\n",
    "\n",
    "for i in range(2, 10**6):\n",
    "    if i not in circular_prime:\n",
    "        if is_circular_prime(i):\n",
    "            for j in range(len(str(i))):\n",
    "                circular_prime.add(int(str(i)[j:] + str(i)[:j]))\n",
    "\n",
    "print(len(circular_prime))"
   ]
  }
 ],
 "metadata": {
  "kernelspec": {
   "display_name": "Python 3",
   "language": "python",
   "name": "python3"
  },
  "language_info": {
   "codemirror_mode": {
    "name": "ipython",
    "version": 3
   },
   "file_extension": ".py",
   "mimetype": "text/x-python",
   "name": "python",
   "nbconvert_exporter": "python",
   "pygments_lexer": "ipython3",
   "version": "3.9.13"
  },
  "orig_nbformat": 4,
  "vscode": {
   "interpreter": {
    "hash": "dce45c8ab860214ad94208527de0d0a04a0b59990b6901f4a547224ce5a72c36"
   }
  }
 },
 "nbformat": 4,
 "nbformat_minor": 2
}
